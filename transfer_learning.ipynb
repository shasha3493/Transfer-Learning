{
  "nbformat": 4,
  "nbformat_minor": 0,
  "metadata": {
    "colab": {
      "name": "transfer_learning.ipynb",
      "provenance": [],
      "collapsed_sections": []
    },
    "kernelspec": {
      "name": "python3",
      "display_name": "Python 3"
    },
    "accelerator": "GPU"
  },
  "cells": [
    {
      "cell_type": "code",
      "metadata": {
        "id": "ILtiPgeYb6Nc",
        "colab_type": "code",
        "outputId": "ebae4469-f6a2-4ee0-d3e5-25c38b9cee13",
        "colab": {
          "base_uri": "https://localhost:8080/",
          "height": 54
        }
      },
      "source": [
        "from google.colab import drive\n",
        "drive.mount('/content/drive')"
      ],
      "execution_count": 2,
      "outputs": [
        {
          "output_type": "stream",
          "text": [
            "Drive already mounted at /content/drive; to attempt to forcibly remount, call drive.mount(\"/content/drive\", force_remount=True).\n"
          ],
          "name": "stdout"
        }
      ]
    },
    {
      "cell_type": "code",
      "metadata": {
        "id": "RCPPukmHb7mR",
        "colab_type": "code",
        "colab": {}
      },
      "source": [
        "import numpy as np\n",
        "import torch\n",
        "import torchvision\n",
        "from torchvision.datasets import ImageFolder\n",
        "import torch.nn.functional as F\n",
        "from torchvision import transforms\n",
        "import matplotlib.pyplot as plt\n",
        "import torchvision.models as models\n",
        "import torch.nn as nn\n",
        "from torch.utils.data.sampler import SubsetRandomSampler"
      ],
      "execution_count": 0,
      "outputs": []
    },
    {
      "cell_type": "code",
      "metadata": {
        "id": "IdOVX0-ywkdz",
        "colab_type": "code",
        "outputId": "df3d7b4d-08f4-4f7c-d3fe-6108177f11a9",
        "colab": {
          "base_uri": "https://localhost:8080/",
          "height": 34
        }
      },
      "source": [
        "device = torch.device(\"cuda:0\" if torch.cuda.is_available() else \"cpu\")\n",
        "device"
      ],
      "execution_count": 4,
      "outputs": [
        {
          "output_type": "execute_result",
          "data": {
            "text/plain": [
              "device(type='cuda', index=0)"
            ]
          },
          "metadata": {
            "tags": []
          },
          "execution_count": 4
        }
      ]
    },
    {
      "cell_type": "code",
      "metadata": {
        "id": "k6VJRR1Nd3P4",
        "colab_type": "code",
        "colab": {}
      },
      "source": [
        "train_dir = 'drive/My Drive/flower-photos/flower_photos/train'\n",
        "test_dir = 'drive/My Drive/flower-photos/flower_photos/test'\n",
        "batch = 200\n",
        "\n",
        "transform = transforms.Compose([transforms.RandomResizedCrop(224),transforms.ToTensor()])\n",
        "train_data = ImageFolder(train_dir, transform=transform)\n",
        "test_data = ImageFolder(test_dir, transform=transform)\n",
        "true_labels=['daisy', 'dandelion', 'roses', 'sunflowers', 'tulips']\n"
      ],
      "execution_count": 0,
      "outputs": []
    },
    {
      "cell_type": "code",
      "metadata": {
        "id": "ah9EERvYuaxk",
        "colab_type": "code",
        "outputId": "de81dde7-f132-4146-80fc-635587db25c8",
        "colab": {
          "base_uri": "https://localhost:8080/",
          "height": 34
        }
      },
      "source": [
        "len(test_data)"
      ],
      "execution_count": 6,
      "outputs": [
        {
          "output_type": "execute_result",
          "data": {
            "text/plain": [
              "540"
            ]
          },
          "metadata": {
            "tags": []
          },
          "execution_count": 6
        }
      ]
    },
    {
      "cell_type": "code",
      "metadata": {
        "id": "Udml_-UeKjrO",
        "colab_type": "code",
        "colab": {}
      },
      "source": [
        "train_size = len(train_data)\n",
        "data_idx = list(range(len(train_data)))\n",
        "valid_size = int(np.floor(0.2*train_size))\n",
        "train_idx = data_idx[valid_size:]\n",
        "valid_idx = data_idx[:valid_size]\n",
        "train_sampler = SubsetRandomSampler(train_idx)\n",
        "valid_sampler = SubsetRandomSampler(valid_idx)"
      ],
      "execution_count": 0,
      "outputs": []
    },
    {
      "cell_type": "code",
      "metadata": {
        "id": "b1kFJ0WRKS8A",
        "colab_type": "code",
        "colab": {}
      },
      "source": [
        "train_loader = torch.utils.data.DataLoader(train_data,batch_size=200, shuffle = False, sampler = train_sampler)\n",
        "valid_loader = torch.utils.data.DataLoader(train_data,batch_size=200, shuffle = False, sampler = valid_sampler)\n",
        "test_loader = torch.utils.data.DataLoader(test_data,batch_size=200, shuffle = True)"
      ],
      "execution_count": 0,
      "outputs": []
    },
    {
      "cell_type": "code",
      "metadata": {
        "id": "csdzaeoawA7X",
        "colab_type": "code",
        "outputId": "9bea690d-003f-4554-ce1a-1ef3601e3adf",
        "colab": {
          "base_uri": "https://localhost:8080/",
          "height": 34
        }
      },
      "source": [
        "len(valid_loader.sampler)"
      ],
      "execution_count": 9,
      "outputs": [
        {
          "output_type": "execute_result",
          "data": {
            "text/plain": [
              "626"
            ]
          },
          "metadata": {
            "tags": []
          },
          "execution_count": 9
        }
      ]
    },
    {
      "cell_type": "code",
      "metadata": {
        "id": "2WAhsrlNjAqM",
        "colab_type": "code",
        "outputId": "ac0d5baa-2f3e-422a-f08f-f592d16575c8",
        "colab": {
          "base_uri": "https://localhost:8080/",
          "height": 320
        }
      },
      "source": [
        "img,label = next(iter(train_loader))\n",
        "print(img[0,:,:,:].shape)\n",
        "img = np.transpose(img[0,:,:,:].numpy(),(1,2,0))\n",
        "print(img.shape)\n",
        "plt.imshow(img)"
      ],
      "execution_count": 10,
      "outputs": [
        {
          "output_type": "stream",
          "text": [
            "torch.Size([3, 224, 224])\n",
            "(224, 224, 3)\n"
          ],
          "name": "stdout"
        },
        {
          "output_type": "execute_result",
          "data": {
            "text/plain": [
              "<matplotlib.image.AxesImage at 0x7f696dd8a780>"
            ]
          },
          "metadata": {
            "tags": []
          },
          "execution_count": 10
        },
        {
          "output_type": "display_data",
          "data": {
            "image/png": "[encoded data removed]",
            "text/plain": [
              "<Figure size 432x288 with 1 Axes>"
            ]
          },
          "metadata": {
            "tags": []
          }
        }
      ]
    },
    {
      "cell_type": "code",
      "metadata": {
        "id": "7tpCPUtY--U4",
        "colab_type": "code",
        "outputId": "73abbd5b-af1e-4c92-e65b-eb8a7dce08eb",
        "colab": {
          "base_uri": "https://localhost:8080/",
          "height": 320
        }
      },
      "source": [
        "img,label = next(iter(test_loader))\n",
        "print(img[0,:,:,:].shape)\n",
        "img = np.transpose(img[0,:,:,:].numpy(),(1,2,0))\n",
        "print(img.shape)\n",
        "plt.imshow(img)"
      ],
      "execution_count": 11,
      "outputs": [
        {
          "output_type": "stream",
          "text": [
            "torch.Size([3, 224, 224])\n",
            "(224, 224, 3)\n"
          ],
          "name": "stdout"
        },
        {
          "output_type": "execute_result",
          "data": {
            "text/plain": [
              "<matplotlib.image.AxesImage at 0x7f696d8dabe0>"
            ]
          },
          "metadata": {
            "tags": []
          },
          "execution_count": 11
        },
        {
          "output_type": "display_data",
          "data": {
            "image/png": "[encoded data removed]",
            "text/plain": [
              "<Figure size 432x288 with 1 Axes>"
            ]
          },
          "metadata": {
            "tags": []
          }
        }
      ]
    },
    {
      "cell_type": "code",
      "metadata": {
        "id": "PXGsvc5Zlf8Y",
        "colab_type": "code",
        "outputId": "b0cf5503-b33f-49cb-8e55-8e836965818d",
        "colab": {
          "base_uri": "https://localhost:8080/",
          "height": 71
        }
      },
      "source": [
        "model= models.vgg16(pretrained=True)"
      ],
      "execution_count": 12,
      "outputs": [
        {
          "output_type": "stream",
          "text": [
            "Downloading: \"https://download.pytorch.org/models/vgg16-397923af.pth\" to /root/.cache/torch/checkpoints/vgg16-397923af.pth\n",
            "100%|██████████| 528M/528M [00:02<00:00, 251MB/s]\n"
          ],
          "name": "stderr"
        }
      ]
    },
    {
      "cell_type": "code",
      "metadata": {
        "id": "wc2asimgnm8m",
        "colab_type": "code",
        "outputId": "dc1ed511-603a-4b19-ca33-cf4a3ccc681b",
        "colab": {
          "base_uri": "https://localhost:8080/",
          "height": 782
        }
      },
      "source": [
        "\n",
        "model"
      ],
      "execution_count": 13,
      "outputs": [
        {
          "output_type": "execute_result",
          "data": {
            "text/plain": [
              "VGG(\n",
              "  (features): Sequential(\n",
              "    (0): Conv2d(3, 64, kernel_size=(3, 3), stride=(1, 1), padding=(1, 1))\n",
              "    (1): ReLU(inplace=True)\n",
              "    (2): Conv2d(64, 64, kernel_size=(3, 3), stride=(1, 1), padding=(1, 1))\n",
              "    (3): ReLU(inplace=True)\n",
              "    (4): MaxPool2d(kernel_size=2, stride=2, padding=0, dilation=1, ceil_mode=False)\n",
              "    (5): Conv2d(64, 128, kernel_size=(3, 3), stride=(1, 1), padding=(1, 1))\n",
              "    (6): ReLU(inplace=True)\n",
              "    (7): Conv2d(128, 128, kernel_size=(3, 3), stride=(1, 1), padding=(1, 1))\n",
              "    (8): ReLU(inplace=True)\n",
              "    (9): MaxPool2d(kernel_size=2, stride=2, padding=0, dilation=1, ceil_mode=False)\n",
              "    (10): Conv2d(128, 256, kernel_size=(3, 3), stride=(1, 1), padding=(1, 1))\n",
              "    (11): ReLU(inplace=True)\n",
              "    (12): Conv2d(256, 256, kernel_size=(3, 3), stride=(1, 1), padding=(1, 1))\n",
              "    (13): ReLU(inplace=True)\n",
              "    (14): Conv2d(256, 256, kernel_size=(3, 3), stride=(1, 1), padding=(1, 1))\n",
              "    (15): ReLU(inplace=True)\n",
              "    (16): MaxPool2d(kernel_size=2, stride=2, padding=0, dilation=1, ceil_mode=False)\n",
              "    (17): Conv2d(256, 512, kernel_size=(3, 3), stride=(1, 1), padding=(1, 1))\n",
              "    (18): ReLU(inplace=True)\n",
              "    (19): Conv2d(512, 512, kernel_size=(3, 3), stride=(1, 1), padding=(1, 1))\n",
              "    (20): ReLU(inplace=True)\n",
              "    (21): Conv2d(512, 512, kernel_size=(3, 3), stride=(1, 1), padding=(1, 1))\n",
              "    (22): ReLU(inplace=True)\n",
              "    (23): MaxPool2d(kernel_size=2, stride=2, padding=0, dilation=1, ceil_mode=False)\n",
              "    (24): Conv2d(512, 512, kernel_size=(3, 3), stride=(1, 1), padding=(1, 1))\n",
              "    (25): ReLU(inplace=True)\n",
              "    (26): Conv2d(512, 512, kernel_size=(3, 3), stride=(1, 1), padding=(1, 1))\n",
              "    (27): ReLU(inplace=True)\n",
              "    (28): Conv2d(512, 512, kernel_size=(3, 3), stride=(1, 1), padding=(1, 1))\n",
              "    (29): ReLU(inplace=True)\n",
              "    (30): MaxPool2d(kernel_size=2, stride=2, padding=0, dilation=1, ceil_mode=False)\n",
              "  )\n",
              "  (avgpool): AdaptiveAvgPool2d(output_size=(7, 7))\n",
              "  (classifier): Sequential(\n",
              "    (0): Linear(in_features=25088, out_features=4096, bias=True)\n",
              "    (1): ReLU(inplace=True)\n",
              "    (2): Dropout(p=0.5, inplace=False)\n",
              "    (3): Linear(in_features=4096, out_features=4096, bias=True)\n",
              "    (4): ReLU(inplace=True)\n",
              "    (5): Dropout(p=0.5, inplace=False)\n",
              "    (6): Linear(in_features=4096, out_features=1000, bias=True)\n",
              "  )\n",
              ")"
            ]
          },
          "metadata": {
            "tags": []
          },
          "execution_count": 13
        }
      ]
    },
    {
      "cell_type": "code",
      "metadata": {
        "id": "mHkilCWZN4Xb",
        "colab_type": "code",
        "outputId": "980a2257-eb6f-4a12-fb28-56cd0cb5bd94",
        "colab": {
          "base_uri": "https://localhost:8080/",
          "height": 34
        }
      },
      "source": [
        "type(model.classifier)"
      ],
      "execution_count": 14,
      "outputs": [
        {
          "output_type": "execute_result",
          "data": {
            "text/plain": [
              "torch.nn.modules.container.Sequential"
            ]
          },
          "metadata": {
            "tags": []
          },
          "execution_count": 14
        }
      ]
    },
    {
      "cell_type": "code",
      "metadata": {
        "id": "1zrWJ3klpgWw",
        "colab_type": "code",
        "outputId": "67dab78b-3e68-4ccd-ca7b-14f2b4d30453",
        "colab": {
          "base_uri": "https://localhost:8080/",
          "height": 1000
        }
      },
      "source": [
        "for i in model.features[0].parameters():\n",
        "  print(i)"
      ],
      "execution_count": 15,
      "outputs": [
        {
          "output_type": "stream",
          "text": [
            "Parameter containing:\n",
            "tensor([[[[-5.5373e-01,  1.4270e-01,  5.2896e-01],\n",
            "          [-5.8312e-01,  3.5655e-01,  7.6566e-01],\n",
            "          [-6.9022e-01, -4.8019e-02,  4.8409e-01]],\n",
            "\n",
            "         [[ 1.7548e-01,  9.8630e-03, -8.1413e-02],\n",
            "          [ 4.4089e-02, -7.0323e-02, -2.6035e-01],\n",
            "          [ 1.3239e-01, -1.7279e-01, -1.3226e-01]],\n",
            "\n",
            "         [[ 3.1303e-01, -1.6591e-01, -4.2752e-01],\n",
            "          [ 4.7519e-01, -8.2677e-02, -4.8700e-01],\n",
            "          [ 6.3203e-01,  1.9308e-02, -2.7753e-01]]],\n",
            "\n",
            "\n",
            "        [[[ 2.3254e-01,  1.2666e-01,  1.8605e-01],\n",
            "          [-4.2805e-01, -2.4349e-01,  2.4628e-01],\n",
            "          [-2.5066e-01,  1.4177e-01, -5.4864e-03]],\n",
            "\n",
            "         [[-1.4076e-01, -2.1903e-01,  1.5041e-01],\n",
            "          [-8.4127e-01, -3.5176e-01,  5.6398e-01],\n",
            "          [-2.4194e-01,  5.1928e-01,  5.3915e-01]],\n",
            "\n",
            "         [[-3.1432e-01, -3.7048e-01, -1.3094e-01],\n",
            "          [-4.7144e-01, -1.5503e-01,  3.4589e-01],\n",
            "          [ 5.4384e-02,  5.8683e-01,  4.9580e-01]]],\n",
            "\n",
            "\n",
            "        [[[ 1.7715e-01,  5.2149e-01,  9.8740e-03],\n",
            "          [-2.7185e-01, -7.1709e-01,  3.1292e-01],\n",
            "          [-7.5753e-02, -2.2079e-01,  3.3455e-01]],\n",
            "\n",
            "         [[ 3.0924e-01,  6.7071e-01,  2.0546e-02],\n",
            "          [-4.6607e-01, -1.0697e+00,  3.3501e-01],\n",
            "          [-8.0284e-02, -3.0522e-01,  5.4460e-01]],\n",
            "\n",
            "         [[ 3.1572e-01,  4.2335e-01, -3.4976e-01],\n",
            "          [ 8.6354e-02, -4.6457e-01,  1.1803e-02],\n",
            "          [ 1.0483e-01, -1.4584e-01, -1.5765e-02]]],\n",
            "\n",
            "\n",
            "        ...,\n",
            "\n",
            "\n",
            "        [[[ 7.7599e-02,  1.2692e-01,  3.2305e-02],\n",
            "          [ 2.2131e-01,  2.4681e-01, -4.6637e-02],\n",
            "          [ 4.6407e-02,  2.8246e-02,  1.7528e-02]],\n",
            "\n",
            "         [[-1.8327e-01, -6.7425e-02, -7.2120e-03],\n",
            "          [-4.8855e-02,  7.0427e-03, -1.2883e-01],\n",
            "          [-6.4601e-02, -6.4566e-02,  4.4235e-02]],\n",
            "\n",
            "         [[-2.2547e-01, -1.1931e-01, -2.3425e-02],\n",
            "          [-9.9171e-02, -1.5143e-02,  9.5385e-04],\n",
            "          [-2.6137e-02,  1.3567e-03,  1.4282e-01]]],\n",
            "\n",
            "\n",
            "        [[[ 1.6520e-02, -3.2225e-02, -3.8450e-03],\n",
            "          [-6.8206e-02, -1.9445e-01, -1.4166e-01],\n",
            "          [-6.9528e-02, -1.8340e-01, -1.7422e-01]],\n",
            "\n",
            "         [[ 4.2781e-02, -6.7529e-02, -7.0309e-03],\n",
            "          [ 1.1765e-02, -1.4958e-01, -1.2361e-01],\n",
            "          [ 1.0205e-02, -1.0393e-01, -1.1742e-01]],\n",
            "\n",
            "         [[ 1.2661e-01,  8.5046e-02,  1.3066e-01],\n",
            "          [ 1.7585e-01,  1.1288e-01,  1.1937e-01],\n",
            "          [ 1.4656e-01,  9.8892e-02,  1.0348e-01]]],\n",
            "\n",
            "\n",
            "        [[[ 3.2176e-02, -1.0766e-01, -2.6388e-01],\n",
            "          [ 2.7957e-01, -3.7416e-02, -2.5471e-01],\n",
            "          [ 3.4872e-01,  3.0041e-02, -5.5898e-02]],\n",
            "\n",
            "         [[ 2.5063e-01,  1.5543e-01, -1.7432e-01],\n",
            "          [ 3.9255e-01,  3.2306e-02, -3.5191e-01],\n",
            "          [ 1.9299e-01, -1.9898e-01, -2.9713e-01]],\n",
            "\n",
            "         [[ 4.6032e-01,  4.3399e-01,  2.8352e-01],\n",
            "          [ 1.6341e-01, -5.8165e-02, -1.9196e-01],\n",
            "          [-1.9521e-01, -4.5630e-01, -4.2732e-01]]]], requires_grad=True)\n",
            "Parameter containing:\n",
            "tensor([ 0.4034,  0.3778,  0.4644, -0.3228,  0.3940, -0.3953,  0.3951, -0.5496,\n",
            "         0.2693, -0.7602, -0.3508,  0.2334, -1.3239, -0.1694,  0.3938, -0.1026,\n",
            "         0.0460, -0.6995,  0.1549,  0.5628,  0.3011,  0.3425,  0.1073,  0.4651,\n",
            "         0.1295,  0.0788, -0.0492, -0.5638,  0.1465, -0.3890, -0.0715,  0.0649,\n",
            "         0.2768,  0.3279,  0.5682, -1.2640, -0.8368, -0.9485,  0.1358,  0.2727,\n",
            "         0.1841, -0.5325,  0.3507, -0.0827, -1.0248, -0.6912, -0.7711,  0.2612,\n",
            "         0.4033, -0.4802, -0.3066,  0.5807, -1.3325,  0.4844, -0.8160,  0.2386,\n",
            "         0.2300,  0.4979,  0.5553,  0.5230, -0.2182,  0.0117, -0.5516,  0.2108],\n",
            "       requires_grad=True)\n"
          ],
          "name": "stdout"
        }
      ]
    },
    {
      "cell_type": "code",
      "metadata": {
        "id": "i-KuOTXUnuly",
        "colab_type": "code",
        "colab": {}
      },
      "source": [
        "for param in model.features.parameters():\n",
        "  param.requires_grad = False"
      ],
      "execution_count": 0,
      "outputs": []
    },
    {
      "cell_type": "code",
      "metadata": {
        "id": "Sep_dZR7rGwo",
        "colab_type": "code",
        "outputId": "56afec21-4ad2-42fa-eced-ca3366f44342",
        "colab": {
          "base_uri": "https://localhost:8080/",
          "height": 170
        }
      },
      "source": [
        "model.classifier"
      ],
      "execution_count": 17,
      "outputs": [
        {
          "output_type": "execute_result",
          "data": {
            "text/plain": [
              "Sequential(\n",
              "  (0): Linear(in_features=25088, out_features=4096, bias=True)\n",
              "  (1): ReLU(inplace=True)\n",
              "  (2): Dropout(p=0.5, inplace=False)\n",
              "  (3): Linear(in_features=4096, out_features=4096, bias=True)\n",
              "  (4): ReLU(inplace=True)\n",
              "  (5): Dropout(p=0.5, inplace=False)\n",
              "  (6): Linear(in_features=4096, out_features=1000, bias=True)\n",
              ")"
            ]
          },
          "metadata": {
            "tags": []
          },
          "execution_count": 17
        }
      ]
    },
    {
      "cell_type": "code",
      "metadata": {
        "id": "Ne9nHvmsrLbJ",
        "colab_type": "code",
        "colab": {}
      },
      "source": [
        "fc = nn.Sequential(nn.Linear(25088,4096),nn.ReLU(), nn.Linear(4096,2048), nn.ReLU(), nn.Linear(2048,1024), nn.ReLU(), nn.Linear(1024,5))\n",
        "model.classifier = fc"
      ],
      "execution_count": 0,
      "outputs": []
    },
    {
      "cell_type": "code",
      "metadata": {
        "id": "qWdW28AWRzVF",
        "colab_type": "code",
        "outputId": "72dcc550-1dbb-45e6-ecb5-5c5274b88860",
        "colab": {
          "base_uri": "https://localhost:8080/",
          "height": 782
        }
      },
      "source": [
        "model"
      ],
      "execution_count": 19,
      "outputs": [
        {
          "output_type": "execute_result",
          "data": {
            "text/plain": [
              "VGG(\n",
              "  (features): Sequential(\n",
              "    (0): Conv2d(3, 64, kernel_size=(3, 3), stride=(1, 1), padding=(1, 1))\n",
              "    (1): ReLU(inplace=True)\n",
              "    (2): Conv2d(64, 64, kernel_size=(3, 3), stride=(1, 1), padding=(1, 1))\n",
              "    (3): ReLU(inplace=True)\n",
              "    (4): MaxPool2d(kernel_size=2, stride=2, padding=0, dilation=1, ceil_mode=False)\n",
              "    (5): Conv2d(64, 128, kernel_size=(3, 3), stride=(1, 1), padding=(1, 1))\n",
              "    (6): ReLU(inplace=True)\n",
              "    (7): Conv2d(128, 128, kernel_size=(3, 3), stride=(1, 1), padding=(1, 1))\n",
              "    (8): ReLU(inplace=True)\n",
              "    (9): MaxPool2d(kernel_size=2, stride=2, padding=0, dilation=1, ceil_mode=False)\n",
              "    (10): Conv2d(128, 256, kernel_size=(3, 3), stride=(1, 1), padding=(1, 1))\n",
              "    (11): ReLU(inplace=True)\n",
              "    (12): Conv2d(256, 256, kernel_size=(3, 3), stride=(1, 1), padding=(1, 1))\n",
              "    (13): ReLU(inplace=True)\n",
              "    (14): Conv2d(256, 256, kernel_size=(3, 3), stride=(1, 1), padding=(1, 1))\n",
              "    (15): ReLU(inplace=True)\n",
              "    (16): MaxPool2d(kernel_size=2, stride=2, padding=0, dilation=1, ceil_mode=False)\n",
              "    (17): Conv2d(256, 512, kernel_size=(3, 3), stride=(1, 1), padding=(1, 1))\n",
              "    (18): ReLU(inplace=True)\n",
              "    (19): Conv2d(512, 512, kernel_size=(3, 3), stride=(1, 1), padding=(1, 1))\n",
              "    (20): ReLU(inplace=True)\n",
              "    (21): Conv2d(512, 512, kernel_size=(3, 3), stride=(1, 1), padding=(1, 1))\n",
              "    (22): ReLU(inplace=True)\n",
              "    (23): MaxPool2d(kernel_size=2, stride=2, padding=0, dilation=1, ceil_mode=False)\n",
              "    (24): Conv2d(512, 512, kernel_size=(3, 3), stride=(1, 1), padding=(1, 1))\n",
              "    (25): ReLU(inplace=True)\n",
              "    (26): Conv2d(512, 512, kernel_size=(3, 3), stride=(1, 1), padding=(1, 1))\n",
              "    (27): ReLU(inplace=True)\n",
              "    (28): Conv2d(512, 512, kernel_size=(3, 3), stride=(1, 1), padding=(1, 1))\n",
              "    (29): ReLU(inplace=True)\n",
              "    (30): MaxPool2d(kernel_size=2, stride=2, padding=0, dilation=1, ceil_mode=False)\n",
              "  )\n",
              "  (avgpool): AdaptiveAvgPool2d(output_size=(7, 7))\n",
              "  (classifier): Sequential(\n",
              "    (0): Linear(in_features=25088, out_features=4096, bias=True)\n",
              "    (1): ReLU()\n",
              "    (2): Linear(in_features=4096, out_features=2048, bias=True)\n",
              "    (3): ReLU()\n",
              "    (4): Linear(in_features=2048, out_features=1024, bias=True)\n",
              "    (5): ReLU()\n",
              "    (6): Linear(in_features=1024, out_features=5, bias=True)\n",
              "  )\n",
              ")"
            ]
          },
          "metadata": {
            "tags": []
          },
          "execution_count": 19
        }
      ]
    },
    {
      "cell_type": "code",
      "metadata": {
        "id": "pg28wVyOzgZ3",
        "colab_type": "code",
        "colab": {}
      },
      "source": [
        "model = model.to(device)"
      ],
      "execution_count": 0,
      "outputs": []
    },
    {
      "cell_type": "code",
      "metadata": {
        "id": "PpMFq5pGtDnh",
        "colab_type": "code",
        "colab": {}
      },
      "source": [
        "import torch.optim \n",
        "optimizer =torch.optim.Adam(model.classifier.parameters(), lr = 0.001)\n",
        "criterion = nn.CrossEntropyLoss()"
      ],
      "execution_count": 0,
      "outputs": []
    },
    {
      "cell_type": "code",
      "metadata": {
        "id": "Ju4nyxPT6Oqg",
        "colab_type": "code",
        "outputId": "55d6600d-8d76-42ab-f707-5079c9fd9941",
        "colab": {
          "base_uri": "https://localhost:8080/",
          "height": 34
        }
      },
      "source": [
        "len(valid_loader.sampler)/20"
      ],
      "execution_count": 22,
      "outputs": [
        {
          "output_type": "execute_result",
          "data": {
            "text/plain": [
              "31.3"
            ]
          },
          "metadata": {
            "tags": []
          },
          "execution_count": 22
        }
      ]
    },
    {
      "cell_type": "code",
      "metadata": {
        "id": "5tFI9PoMDtUy",
        "colab_type": "code",
        "outputId": "eaa20aec-520e-4d39-eb37-ace54105115d",
        "colab": {
          "base_uri": "https://localhost:8080/",
          "height": 34
        }
      },
      "source": [
        "len(valid_sampler)"
      ],
      "execution_count": 23,
      "outputs": [
        {
          "output_type": "execute_result",
          "data": {
            "text/plain": [
              "626"
            ]
          },
          "metadata": {
            "tags": []
          },
          "execution_count": 23
        }
      ]
    },
    {
      "cell_type": "code",
      "metadata": {
        "id": "uHemdZgNtxba",
        "colab_type": "code",
        "outputId": "3a9a2696-3e83-40de-f6a4-03300ebfcdd0",
        "colab": {
          "base_uri": "https://localhost:8080/",
          "height": 782
        }
      },
      "source": [
        "model.state_dict"
      ],
      "execution_count": 24,
      "outputs": [
        {
          "output_type": "execute_result",
          "data": {
            "text/plain": [
              "<bound method Module.state_dict of VGG(\n",
              "  (features): Sequential(\n",
              "    (0): Conv2d(3, 64, kernel_size=(3, 3), stride=(1, 1), padding=(1, 1))\n",
              "    (1): ReLU(inplace=True)\n",
              "    (2): Conv2d(64, 64, kernel_size=(3, 3), stride=(1, 1), padding=(1, 1))\n",
              "    (3): ReLU(inplace=True)\n",
              "    (4): MaxPool2d(kernel_size=2, stride=2, padding=0, dilation=1, ceil_mode=False)\n",
              "    (5): Conv2d(64, 128, kernel_size=(3, 3), stride=(1, 1), padding=(1, 1))\n",
              "    (6): ReLU(inplace=True)\n",
              "    (7): Conv2d(128, 128, kernel_size=(3, 3), stride=(1, 1), padding=(1, 1))\n",
              "    (8): ReLU(inplace=True)\n",
              "    (9): MaxPool2d(kernel_size=2, stride=2, padding=0, dilation=1, ceil_mode=False)\n",
              "    (10): Conv2d(128, 256, kernel_size=(3, 3), stride=(1, 1), padding=(1, 1))\n",
              "    (11): ReLU(inplace=True)\n",
              "    (12): Conv2d(256, 256, kernel_size=(3, 3), stride=(1, 1), padding=(1, 1))\n",
              "    (13): ReLU(inplace=True)\n",
              "    (14): Conv2d(256, 256, kernel_size=(3, 3), stride=(1, 1), padding=(1, 1))\n",
              "    (15): ReLU(inplace=True)\n",
              "    (16): MaxPool2d(kernel_size=2, stride=2, padding=0, dilation=1, ceil_mode=False)\n",
              "    (17): Conv2d(256, 512, kernel_size=(3, 3), stride=(1, 1), padding=(1, 1))\n",
              "    (18): ReLU(inplace=True)\n",
              "    (19): Conv2d(512, 512, kernel_size=(3, 3), stride=(1, 1), padding=(1, 1))\n",
              "    (20): ReLU(inplace=True)\n",
              "    (21): Conv2d(512, 512, kernel_size=(3, 3), stride=(1, 1), padding=(1, 1))\n",
              "    (22): ReLU(inplace=True)\n",
              "    (23): MaxPool2d(kernel_size=2, stride=2, padding=0, dilation=1, ceil_mode=False)\n",
              "    (24): Conv2d(512, 512, kernel_size=(3, 3), stride=(1, 1), padding=(1, 1))\n",
              "    (25): ReLU(inplace=True)\n",
              "    (26): Conv2d(512, 512, kernel_size=(3, 3), stride=(1, 1), padding=(1, 1))\n",
              "    (27): ReLU(inplace=True)\n",
              "    (28): Conv2d(512, 512, kernel_size=(3, 3), stride=(1, 1), padding=(1, 1))\n",
              "    (29): ReLU(inplace=True)\n",
              "    (30): MaxPool2d(kernel_size=2, stride=2, padding=0, dilation=1, ceil_mode=False)\n",
              "  )\n",
              "  (avgpool): AdaptiveAvgPool2d(output_size=(7, 7))\n",
              "  (classifier): Sequential(\n",
              "    (0): Linear(in_features=25088, out_features=4096, bias=True)\n",
              "    (1): ReLU()\n",
              "    (2): Linear(in_features=4096, out_features=2048, bias=True)\n",
              "    (3): ReLU()\n",
              "    (4): Linear(in_features=2048, out_features=1024, bias=True)\n",
              "    (5): ReLU()\n",
              "    (6): Linear(in_features=1024, out_features=5, bias=True)\n",
              "  )\n",
              ")>"
            ]
          },
          "metadata": {
            "tags": []
          },
          "execution_count": 24
        }
      ]
    },
    {
      "cell_type": "code",
      "metadata": {
        "id": "nRBRO9VavxeZ",
        "colab_type": "code",
        "colab": {
          "base_uri": "https://localhost:8080/",
          "height": 1000
        },
        "outputId": "a13bf78f-91e4-428b-f0d0-673ff2f9e96b"
      },
      "source": [
        "epoch = 20\n",
        "min_valid_accuracy = 0\n",
        "\n",
        "\n",
        "for e in range(epoch):\n",
        "  correct_pred_t = 0 \n",
        "  running_loss_t = 0\n",
        "  running_loss_v = 0\n",
        "  correct_pred_v = 0\n",
        "  for data, label in train_loader:\n",
        "    data, label = data.to(device), label.to(device)\n",
        "    optimizer.zero_grad()\n",
        "    output = model(data)\n",
        "    loss=criterion(output,label)\n",
        "    running_loss_t+=loss.item()*data.shape[0]\n",
        "    p = F.softmax(output, dim = 1)\n",
        "    _ , c = torch.max(p,1)\n",
        "    correct_pred_t += torch.sum(c == label).item()\n",
        "    loss.backward()\n",
        "    optimizer.step()\n",
        "   \n",
        "\n",
        "  print(\"Epoch: {}  Training Loss: {}  Training Accuracy:{}\".format(e, running_loss_t/len(train_sampler), correct_pred_t/len(train_sampler) ))\n",
        "  print()\n",
        "  for data_v, label_v in valid_loader:\n",
        "    \n",
        "    \n",
        "    data_v, label_v = data_v.to(device), label_v.to(device)\n",
        "    output_v = model(data_v)\n",
        "    loss_v=criterion(output_v,label_v)\n",
        "    running_loss_v+=loss_v.item()*data_v.shape[0]\n",
        "    p_v = F.softmax(output_v, dim = 1)\n",
        "    _ , c_v = torch.max(p_v,1)\n",
        "    correct_pred_v += torch.sum(c_v == label_v).item()\n",
        "    \n",
        "    \n",
        "  print(\"Epoch: {}  Validation Loss: {}  Validation Accuracy:{}\".format(e, running_loss_v/len(valid_sampler), correct_pred_v/len(valid_sampler) ))\n",
        "\n",
        "  if (correct_pred_v/len(valid_sampler) > min_valid_accuracy):\n",
        "    print('New Min Validation Accuracy:', correct_pred_v/len(valid_sampler))\n",
        "    min_valid_accuracy = correct_pred_v/len(valid_sampler)\n",
        "    print('Saving the Checkpoint: ')\n",
        "    torch.save(model.state_dict(),'checkpoint.pt')\n",
        "\n",
        "  print('*'*60)\n"
      ],
      "execution_count": 26,
      "outputs": [
        {
          "output_type": "stream",
          "text": [
            "Epoch: 0  Training Loss: 2.0358645267570363  Training Accuracy:0.5031948881789138\n",
            "\n",
            "Epoch: 0  Validation Loss: 16.011690474927615  Validation Accuracy:0.11661341853035144\n",
            "New Min Validation Accuracy: 0.11661341853035144\n",
            "Saving the Checkpoint: \n",
            "************************************************************\n",
            "Epoch: 1  Training Loss: 0.4746682376335985  Training Accuracy:0.8238817891373802\n",
            "\n",
            "Epoch: 1  Validation Loss: 13.2437131930464  Validation Accuracy:0.11661341853035144\n",
            "************************************************************\n",
            "Epoch: 2  Training Loss: 0.34684189087666645  Training Accuracy:0.8690095846645367\n",
            "\n",
            "Epoch: 2  Validation Loss: 14.992304616081068  Validation Accuracy:0.11661341853035144\n",
            "************************************************************\n",
            "Epoch: 3  Training Loss: 0.30959974653042927  Training Accuracy:0.8913738019169329\n",
            "\n",
            "Epoch: 3  Validation Loss: 15.653154757076178  Validation Accuracy:0.1182108626198083\n",
            "New Min Validation Accuracy: 0.1182108626198083\n",
            "Saving the Checkpoint: \n",
            "************************************************************\n",
            "Epoch: 4  Training Loss: 0.26915072799681095  Training Accuracy:0.8985623003194888\n",
            "\n",
            "Epoch: 4  Validation Loss: 14.523723492607141  Validation Accuracy:0.10702875399361023\n",
            "************************************************************\n",
            "Epoch: 5  Training Loss: 0.24321846763927715  Training Accuracy:0.9129392971246006\n",
            "\n",
            "Epoch: 5  Validation Loss: 17.394975497699775  Validation Accuracy:0.11501597444089456\n",
            "************************************************************\n",
            "Epoch: 6  Training Loss: 0.20373482288072664  Training Accuracy:0.9277156549520766\n",
            "\n",
            "Epoch: 6  Validation Loss: 16.739087083469183  Validation Accuracy:0.11661341853035144\n",
            "************************************************************\n",
            "Epoch: 7  Training Loss: 0.20627229358441532  Training Accuracy:0.9293130990415336\n",
            "\n",
            "Epoch: 7  Validation Loss: 19.44242735183277  Validation Accuracy:0.12619808306709265\n",
            "New Min Validation Accuracy: 0.12619808306709265\n",
            "Saving the Checkpoint: \n",
            "************************************************************\n",
            "Epoch: 8  Training Loss: 0.18516087565368738  Training Accuracy:0.9365015974440895\n",
            "\n",
            "Epoch: 8  Validation Loss: 20.691518131536416  Validation Accuracy:0.1182108626198083\n",
            "************************************************************\n",
            "Epoch: 9  Training Loss: 0.20268666744232178  Training Accuracy:0.9293130990415336\n",
            "\n",
            "Epoch: 9  Validation Loss: 18.260555035770892  Validation Accuracy:0.12300319488817892\n",
            "************************************************************\n",
            "Epoch: 10  Training Loss: 0.20035376549719242  Training Accuracy:0.9265175718849841\n",
            "\n",
            "Epoch: 10  Validation Loss: 20.010430284201526  Validation Accuracy:0.12779552715654952\n",
            "New Min Validation Accuracy: 0.12779552715654952\n",
            "Saving the Checkpoint: \n",
            "************************************************************\n",
            "Epoch: 11  Training Loss: 0.16915788651464847  Training Accuracy:0.9365015974440895\n",
            "\n",
            "Epoch: 11  Validation Loss: 20.33608094114846  Validation Accuracy:0.12619808306709265\n",
            "************************************************************\n",
            "Epoch: 12  Training Loss: 0.17320967898867762  Training Accuracy:0.9333067092651757\n",
            "\n",
            "Epoch: 12  Validation Loss: 18.971689303462117  Validation Accuracy:0.12460063897763578\n",
            "************************************************************\n",
            "Epoch: 13  Training Loss: 0.1690719965071724  Training Accuracy:0.9420926517571885\n",
            "\n",
            "Epoch: 13  Validation Loss: 19.18779914904707  Validation Accuracy:0.12619808306709265\n",
            "************************************************************\n",
            "Epoch: 14  Training Loss: 0.15058439479658778  Training Accuracy:0.9452875399361023\n",
            "\n",
            "Epoch: 14  Validation Loss: 21.665880227622132  Validation Accuracy:0.12140575079872204\n",
            "************************************************************\n",
            "Epoch: 15  Training Loss: 0.1453015377489142  Training Accuracy:0.9468849840255591\n",
            "\n",
            "Epoch: 15  Validation Loss: 19.468292467891217  Validation Accuracy:0.12300319488817892\n",
            "************************************************************\n",
            "Epoch: 16  Training Loss: 0.15932985887931178  Training Accuracy:0.9396964856230032\n",
            "\n",
            "Epoch: 16  Validation Loss: 16.617357162621836  Validation Accuracy:0.12460063897763578\n",
            "************************************************************\n",
            "Epoch: 17  Training Loss: 0.16168153807282828  Training Accuracy:0.9436900958466453\n",
            "\n",
            "Epoch: 17  Validation Loss: 16.782787822686824  Validation Accuracy:0.12779552715654952\n",
            "************************************************************\n",
            "Epoch: 18  Training Loss: 0.1398313191775887  Training Accuracy:0.9496805111821086\n",
            "\n",
            "Epoch: 18  Validation Loss: 20.092241275043914  Validation Accuracy:0.12460063897763578\n",
            "************************************************************\n",
            "Epoch: 19  Training Loss: 0.15024438029089673  Training Accuracy:0.9432907348242812\n",
            "\n",
            "Epoch: 19  Validation Loss: 19.98267507096068  Validation Accuracy:0.1182108626198083\n",
            "************************************************************\n"
          ],
          "name": "stdout"
        }
      ]
    },
    {
      "cell_type": "code",
      "metadata": {
        "id": "v-5dmKZUz40-",
        "colab_type": "code",
        "outputId": "e4c765cb-e0f2-4ce5-ba71-35b54d166236",
        "colab": {
          "base_uri": "https://localhost:8080/",
          "height": 901
        }
      },
      "source": [
        "model.load_state_dict(torch.load('checkpoint.pt'))\n",
        "\n",
        "model.eval()\n",
        "running_loss = 0\n",
        "correct_pred = 0\n",
        "with torch.no_grad():\n",
        "  for data, label in test_loader:\n",
        "    data, label = data.to(device), label.to(device)\n",
        "    output = model(data)\n",
        "    p = F.softmax(output, 1)\n",
        "    loss = criterion(output, label)\n",
        "    running_loss+=loss.item()*data.shape[0]\n",
        "    _, pred_class= torch.max(p,1)\n",
        "    print(label)\n",
        "    print(pred_class)\n",
        "    correct_pred += torch.sum(pred_class == label).item()\n",
        "\n",
        "  print(\"Test Loss: \", running_loss/len(test_loader.sampler))\n",
        "  print('Test Accuracy:',correct_pred/len(test_loader.sampler))"
      ],
      "execution_count": 28,
      "outputs": [
        {
          "output_type": "stream",
          "text": [
            "tensor([3, 1, 4, 3, 1, 4, 4, 1, 2, 4, 2, 0, 4, 4, 4, 1, 3, 1, 3, 4, 1, 2, 4, 1,\n",
            "        3, 1, 0, 1, 4, 2, 3, 2, 1, 2, 1, 1, 3, 1, 2, 4, 3, 3, 4, 0, 2, 1, 3, 3,\n",
            "        1, 3, 4, 1, 4, 4, 4, 1, 1, 4, 1, 4, 0, 2, 3, 2, 3, 2, 1, 3, 3, 2, 1, 1,\n",
            "        3, 3, 1, 4, 1, 3, 3, 1, 0, 4, 1, 1, 2, 1, 4, 1, 2, 4, 1, 0, 3, 4, 1, 1,\n",
            "        4, 1, 3, 1, 3, 4, 0, 2, 0, 1, 3, 1, 4, 3, 4, 1, 2, 4, 1, 2, 2, 0, 4, 0,\n",
            "        0, 3, 0, 4, 1, 1, 4, 2, 2, 3, 1, 3, 1, 3, 3, 3, 2, 0, 0, 1, 3, 4, 3, 1,\n",
            "        4, 0, 4, 3, 2, 3, 1, 4, 4, 3, 2, 1, 2, 4, 0, 0, 3, 3, 0, 0, 1, 1, 0, 1,\n",
            "        3, 2, 2, 4, 4, 0, 3, 1, 0, 2, 2, 4, 4, 4, 3, 4, 2, 1, 0, 0, 0, 2, 2, 2,\n",
            "        2, 0, 4, 0, 3, 2, 2, 4], device='cuda:0')\n",
            "tensor([3, 1, 4, 3, 1, 4, 1, 1, 4, 4, 2, 1, 2, 4, 2, 1, 3, 1, 3, 4, 1, 2, 4, 1,\n",
            "        3, 1, 1, 1, 4, 3, 3, 3, 1, 2, 1, 1, 3, 1, 2, 4, 3, 3, 4, 4, 4, 1, 3, 3,\n",
            "        1, 3, 2, 1, 3, 4, 4, 1, 1, 4, 1, 4, 1, 2, 1, 4, 3, 1, 1, 3, 3, 2, 1, 1,\n",
            "        3, 3, 1, 4, 1, 3, 3, 1, 3, 4, 1, 1, 2, 1, 4, 1, 2, 4, 1, 1, 3, 4, 1, 1,\n",
            "        4, 1, 3, 1, 3, 4, 3, 4, 3, 1, 3, 1, 2, 3, 4, 1, 2, 4, 1, 2, 3, 3, 4, 3,\n",
            "        3, 1, 3, 4, 1, 1, 2, 2, 3, 3, 1, 3, 1, 1, 3, 3, 2, 3, 3, 1, 3, 4, 3, 1,\n",
            "        4, 1, 4, 3, 4, 3, 1, 4, 4, 3, 2, 1, 2, 4, 1, 3, 3, 4, 3, 2, 1, 1, 1, 3,\n",
            "        3, 4, 1, 4, 1, 3, 3, 1, 1, 2, 2, 4, 4, 4, 3, 4, 4, 1, 1, 1, 4, 4, 2, 2,\n",
            "        2, 3, 4, 1, 3, 2, 2, 3], device='cuda:0')\n",
            "tensor([2, 3, 0, 3, 4, 0, 4, 2, 1, 0, 1, 2, 2, 0, 3, 2, 3, 0, 3, 2, 0, 1, 4, 4,\n",
            "        0, 2, 4, 4, 4, 2, 4, 2, 3, 1, 4, 4, 4, 4, 4, 4, 3, 0, 1, 1, 0, 1, 4, 3,\n",
            "        4, 2, 1, 4, 2, 1, 2, 0, 3, 3, 3, 0, 1, 1, 1, 3, 0, 1, 3, 2, 3, 0, 2, 2,\n",
            "        1, 1, 1, 4, 3, 4, 1, 3, 1, 1, 2, 4, 4, 1, 4, 0, 1, 4, 1, 0, 2, 4, 2, 2,\n",
            "        0, 0, 2, 1, 4, 0, 2, 4, 1, 1, 3, 0, 1, 2, 3, 0, 1, 4, 0, 2, 0, 4, 1, 3,\n",
            "        3, 4, 0, 3, 4, 1, 2, 0, 0, 4, 2, 3, 4, 3, 0, 1, 2, 2, 1, 1, 0, 1, 0, 4,\n",
            "        0, 0, 4, 4, 4, 4, 4, 1, 1, 2, 3, 2, 1, 3, 1, 2, 4, 0, 3, 3, 4, 4, 4, 0,\n",
            "        3, 1, 0, 4, 1, 3, 0, 4, 3, 1, 1, 0, 0, 2, 4, 3, 1, 3, 4, 1, 3, 3, 4, 2,\n",
            "        0, 2, 3, 4, 3, 4, 4, 1], device='cuda:0')\n",
            "tensor([2, 1, 3, 3, 4, 3, 4, 4, 1, 3, 1, 2, 2, 3, 3, 2, 1, 1, 3, 2, 1, 1, 4, 4,\n",
            "        1, 4, 3, 4, 4, 3, 4, 2, 3, 1, 2, 4, 4, 4, 4, 4, 3, 3, 1, 1, 1, 1, 3, 3,\n",
            "        4, 2, 1, 1, 2, 1, 2, 4, 4, 3, 3, 3, 1, 1, 1, 4, 1, 1, 3, 2, 3, 3, 2, 2,\n",
            "        1, 1, 1, 4, 3, 4, 1, 3, 1, 1, 2, 4, 4, 1, 3, 3, 1, 3, 1, 3, 4, 3, 3, 2,\n",
            "        1, 1, 4, 1, 4, 1, 2, 4, 1, 1, 3, 1, 1, 2, 3, 1, 1, 3, 3, 2, 3, 2, 1, 3,\n",
            "        3, 4, 3, 3, 4, 1, 1, 1, 1, 4, 4, 3, 4, 3, 4, 1, 4, 2, 1, 1, 3, 1, 3, 4,\n",
            "        3, 1, 4, 4, 4, 4, 4, 1, 1, 4, 3, 2, 1, 1, 1, 2, 4, 3, 3, 3, 4, 4, 4, 1,\n",
            "        1, 1, 1, 4, 1, 3, 1, 4, 3, 3, 1, 1, 1, 2, 4, 3, 1, 3, 2, 1, 3, 3, 4, 2,\n",
            "        1, 4, 3, 4, 3, 4, 4, 1], device='cuda:0')\n",
            "tensor([1, 0, 0, 1, 1, 0, 0, 4, 3, 1, 4, 4, 4, 4, 0, 1, 0, 1, 1, 2, 4, 1, 4, 3,\n",
            "        0, 2, 3, 0, 2, 2, 2, 1, 3, 1, 3, 4, 0, 3, 4, 4, 1, 3, 1, 0, 4, 2, 3, 4,\n",
            "        4, 4, 2, 1, 2, 0, 3, 4, 1, 4, 3, 3, 2, 2, 2, 1, 0, 0, 0, 0, 3, 0, 1, 1,\n",
            "        4, 1, 2, 1, 1, 1, 3, 1, 2, 4, 2, 2, 3, 1, 2, 3, 4, 0, 2, 0, 3, 0, 0, 4,\n",
            "        4, 4, 3, 0, 0, 1, 2, 4, 3, 4, 2, 0, 1, 1, 2, 4, 1, 1, 2, 0, 2, 4, 1, 3,\n",
            "        1, 1, 2, 4, 0, 1, 3, 1, 0, 4, 1, 3, 1, 1, 0, 1, 4, 0, 3, 3],\n",
            "       device='cuda:0')\n",
            "tensor([1, 3, 2, 1, 1, 4, 3, 4, 3, 1, 4, 4, 4, 4, 3, 1, 3, 1, 1, 4, 2, 1, 4, 3,\n",
            "        1, 2, 3, 1, 1, 4, 2, 1, 3, 1, 1, 4, 1, 3, 4, 4, 1, 3, 1, 3, 2, 3, 3, 4,\n",
            "        4, 4, 3, 1, 4, 3, 3, 4, 1, 4, 3, 3, 4, 4, 4, 1, 3, 4, 3, 3, 3, 3, 1, 1,\n",
            "        4, 1, 2, 1, 1, 1, 3, 1, 2, 4, 2, 2, 3, 1, 2, 3, 2, 3, 4, 1, 3, 1, 3, 4,\n",
            "        4, 4, 3, 3, 3, 1, 2, 4, 3, 4, 2, 3, 1, 1, 2, 4, 1, 1, 2, 1, 2, 4, 1, 3,\n",
            "        1, 1, 2, 4, 1, 1, 3, 1, 3, 4, 1, 3, 1, 1, 1, 1, 1, 3, 3, 3],\n",
            "       device='cuda:0')\n",
            "Test Loss:  4.438409505067049\n",
            "Test Accuracy: 0.6981481481481482\n"
          ],
          "name": "stdout"
        }
      ]
    },
    {
      "cell_type": "code",
      "metadata": {
        "id": "Kfp6CntNBFLB",
        "colab_type": "code",
        "colab": {}
      },
      "source": [
        ""
      ],
      "execution_count": 0,
      "outputs": []
    }
  ]
}